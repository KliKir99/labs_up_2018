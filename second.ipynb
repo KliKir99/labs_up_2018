{
  "nbformat": 4,
  "nbformat_minor": 0,
  "metadata": {
    "kernelspec": {
      "name": "python3",
      "display_name": "Python 3"
    },
    "language_info": {
      "codemirror_mode": {
        "name": "ipython",
        "version": 3
      },
      "file_extension": ".py",
      "mimetype": "text/x-python",
      "name": "python",
      "nbconvert_exporter": "python",
      "pygments_lexer": "ipython3",
      "version": "3.7.5"
    },
    "colab": {
      "name": "second.ipynb",
      "provenance": [],
      "collapsed_sections": []
    }
  },
  "cells": [
    {
      "cell_type": "markdown",
      "metadata": {
        "id": "-kmka1hIPU3v",
        "colab_type": "text"
      },
      "source": [
        "Вторая версия эксперимента, Кирилл Климук"
      ]
    },
    {
      "cell_type": "markdown",
      "metadata": {
        "id": "4RoqGAuQQbFs",
        "colab_type": "text"
      },
      "source": [
        "Пути к данным:"
      ]
    },
    {
      "cell_type": "code",
      "metadata": {
        "id": "CuumqRBNP_JC",
        "colab_type": "code",
        "colab": {}
      },
      "source": [
        "PATH_TO_TRAIN_CSV = 'drive/My Drive/for_graduate/DS kaggle 2019/train.csv'\n",
        "PATH_TO_TRAIN_IMAGES = 'drive/My Drive/for_graduate/DS kaggle 2019/train_images'\n",
        "PATH_TO_TEST_IMAGES = 'drive/My Drive/for_graduate/DS kaggle 2019/test_images'\n",
        "PATH_TO_SUBMISSION_CSV = 'drive/My Drive/for_graduate/DS kaggle 2019/sample_submission.csv'\n",
        "PATH_TO_LOG_FILE = 'drive/My Drive/for_graduate/DS kaggle 2019/log.txt'\n",
        "\n",
        "log_file = open(PATH_TO_LOG_FILE, 'w+')"
      ],
      "execution_count": 0,
      "outputs": []
    },
    {
      "cell_type": "markdown",
      "metadata": {
        "id": "mzvxNBJBQoGC",
        "colab_type": "text"
      },
      "source": [
        "Необходимые импорты:"
      ]
    },
    {
      "cell_type": "code",
      "metadata": {
        "id": "IS5j_KNmPU30",
        "colab_type": "code",
        "colab": {}
      },
      "source": [
        "import torch\n",
        "import numpy as np\n",
        "import math\n",
        "import pandas as pd\n",
        "\n",
        "from PIL import Image\n",
        "import glob\n",
        "\n",
        "import os\n",
        "from torchvision import transforms\n",
        "import time"
      ],
      "execution_count": 0,
      "outputs": []
    },
    {
      "cell_type": "markdown",
      "metadata": {
        "id": "ltCrAU8cILTS",
        "colab_type": "text"
      },
      "source": [
        "GPU vs CPU"
      ]
    },
    {
      "cell_type": "code",
      "metadata": {
        "id": "hbXGwM5BH1q2",
        "colab_type": "code",
        "colab": {}
      },
      "source": [
        "device = torch.device('cpu')\n",
        "\n",
        "#if torch.cuda.is_available():\n",
        "#    torch.set_default_tensor_type('torch.cuda.FloatTensor')"
      ],
      "execution_count": 0,
      "outputs": []
    },
    {
      "cell_type": "markdown",
      "metadata": {
        "id": "x0EDYAur98em",
        "colab_type": "text"
      },
      "source": [
        "Высчитываем данные из .csv файла в датафрейм:"
      ]
    },
    {
      "cell_type": "code",
      "metadata": {
        "id": "KX6PXydLPU39",
        "colab_type": "code",
        "colab": {}
      },
      "source": [
        "df = pd.read_csv(PATH_TO_TRAIN_CSV, index_col = 'Image_Label')"
      ],
      "execution_count": 0,
      "outputs": []
    },
    {
      "cell_type": "markdown",
      "metadata": {
        "id": "N8bm8L1M-Gb2",
        "colab_type": "text"
      },
      "source": [
        "Архитектура нейронной сети:"
      ]
    },
    {
      "cell_type": "code",
      "metadata": {
        "id": "m4pd-TA5PU4E",
        "colab_type": "code",
        "colab": {}
      },
      "source": [
        "class preUNet(torch.nn.Module):\n",
        "    def __init__(self):\n",
        "        super().__init__()\n",
        "        \n",
        "        self.conv1 = torch.nn.Conv2d(in_channels = 3, out_channels = 16, kernel_size = 3, padding = 1)\n",
        "        self.act1 = torch.nn.ReLU()\n",
        "        self.conv2 = torch.nn.Conv2d(in_channels = 16, out_channels = 16, kernel_size = 3, padding = 1)\n",
        "        self.act2 = torch.nn.ReLU()\n",
        "\n",
        "        self.pool1 = torch.nn.MaxPool2d(kernel_size = 2, stride = 2)\n",
        "        \n",
        "        \n",
        "        self.conv3 = torch.nn.Conv2d(in_channels = 16, out_channels = 32, kernel_size = 3, padding = 1)\n",
        "        self.act3 = torch.nn.ReLU()\n",
        "        \n",
        "        \n",
        "        self.final_conv = torch.nn.Conv2d(in_channels = 32, out_channels = 5, kernel_size = 1, padding = 0)\n",
        "        self.sigm = torch.nn.Sigmoid()\n",
        "    \n",
        "    def forward(self, x):\n",
        "        \n",
        "        x = self.conv1(x)\n",
        "        x = self.act1(x)\n",
        "        x = self.conv2(x)\n",
        "        x = self.act2(x)\n",
        "\n",
        "        #print('before pooling: ', x.shape)\n",
        "\n",
        "        x = self.pool1(x)\n",
        "\n",
        "        #print('after pooling: ', x.shape)\n",
        "        \n",
        "        x = self.conv3(x)\n",
        "        x = self.act3(x)\n",
        "        \n",
        "        x = self.final_conv(x)\n",
        "        \n",
        "        x = self.sigm(x)\n",
        "        \n",
        "        return x"
      ],
      "execution_count": 0,
      "outputs": []
    },
    {
      "cell_type": "markdown",
      "metadata": {
        "id": "0G9wwqa_Xz64",
        "colab_type": "text"
      },
      "source": [
        "Эталонная маска по классам (полученная из входного .csv файла) (для функции CrossEntropyLoss)"
      ]
    },
    {
      "cell_type": "code",
      "metadata": {
        "id": "eTZJiM04PU4L",
        "colab_type": "code",
        "colab": {}
      },
      "source": [
        "def get_perfect_class_mask_by_photo_name(photo_name):\n",
        "    \n",
        "    mask = (torch.zeros((1, 350 * 525))).long()\n",
        "\n",
        "    mask[:][:] = 4\n",
        "\n",
        "    patterns = ['Fish', 'Flower', 'Gravel', 'Sugar']\n",
        "    \n",
        "    def update_perfect_tensor_by_pattern(answer, pattern):\n",
        "        needed_str = df['EncodedPixels'][photo_name + '_' + pattern]\n",
        "        if type(needed_str) == str:\n",
        "            val = patterns.index(pattern)\n",
        "            needed_list = needed_str.split(' ')\n",
        "            for i in range(0, len(needed_list), 2):\n",
        "                number_of_starting_pixel = (int(needed_list[i]) // 2100 // 4) * 525 +\\\n",
        "                                            int(needed_list[i]) % 2100 // 4\n",
        "                count = min(int(needed_list[i + 1]) // 4, 350 * 525 - number_of_starting_pixel)\n",
        "                answer[0][number_of_starting_pixel : number_of_starting_pixel + count] = val\n",
        "            \n",
        "    \n",
        "    update_perfect_tensor_by_pattern(mask, 'Fish')\n",
        "    update_perfect_tensor_by_pattern(mask, 'Flower')\n",
        "    update_perfect_tensor_by_pattern(mask, 'Gravel')\n",
        "    update_perfect_tensor_by_pattern(mask, 'Sugar')\n",
        "    \n",
        "    return mask.reshape((350, 525))"
      ],
      "execution_count": 0,
      "outputs": []
    },
    {
      "cell_type": "markdown",
      "metadata": {
        "id": "6CpnOaJeSd-Q",
        "colab_type": "text"
      },
      "source": [
        "Создание экземпляра нейронной сети и оптимизатор:"
      ]
    },
    {
      "cell_type": "code",
      "metadata": {
        "id": "4srQRlTYPU4V",
        "colab_type": "code",
        "colab": {}
      },
      "source": [
        "instance = preUNet()\n",
        "\n",
        "optimizer = torch.optim.Adam(instance.parameters(), lr = 0.001)"
      ],
      "execution_count": 0,
      "outputs": []
    },
    {
      "cell_type": "markdown",
      "metadata": {
        "id": "3q8_3XFqPU4c",
        "colab_type": "text"
      },
      "source": [
        "Лосс функция - pixel-wise cross-entropy loss:"
      ]
    },
    {
      "cell_type": "code",
      "metadata": {
        "id": "FsUk1LNfBihm",
        "colab_type": "code",
        "colab": {}
      },
      "source": [
        "loss = torch.nn.CrossEntropyLoss()"
      ],
      "execution_count": 0,
      "outputs": []
    },
    {
      "cell_type": "markdown",
      "metadata": {
        "id": "RD9B3bAMPU4s",
        "colab_type": "text"
      },
      "source": [
        "Процесс тренировки"
      ]
    },
    {
      "cell_type": "code",
      "metadata": {
        "id": "Rh2exin4PU4u",
        "colab_type": "code",
        "colab": {}
      },
      "source": [
        "BATCH_SIZE = 20\n",
        "TRAIN_DATA_SET_SIZE = 20\n",
        "NUMBER_OF_ERAS = 100"
      ],
      "execution_count": 0,
      "outputs": []
    },
    {
      "cell_type": "code",
      "metadata": {
        "id": "_XDeVag0PU40",
        "colab_type": "code",
        "outputId": "a638054c-96d3-4abb-c6a5-d5e33510e670",
        "colab": {
          "base_uri": "https://localhost:8080/",
          "height": 1000
        }
      },
      "source": [
        "epoch_list = []\n",
        "loss_values_list = []\n",
        "\n",
        "photoname_train_list = os.listdir(PATH_TO_TRAIN_IMAGES)\n",
        "photoname_train_list = photoname_train_list[:TRAIN_DATA_SET_SIZE]\n",
        "\n",
        "print(photoname_train_list)\n",
        "\n",
        "start_learning = time.time()\n",
        "\n",
        "for epoch in range(NUMBER_OF_ERAS):\n",
        "\n",
        "    print('epoch #' + str(epoch) + ' is started, time = ' + str(time.time() - start_learning) + ' s')\n",
        "\n",
        "    permutation = np.random.permutation(len(photoname_train_list))\n",
        "    \n",
        "    #batch\n",
        "    for batch_index in range(0, len(photoname_train_list), BATCH_SIZE):\n",
        "        \n",
        "        optimizer.zero_grad()\n",
        "        \n",
        "        #batch_list = photoname_train_list[batch_index : batch_index + BATCH_SIZE]\n",
        "        batch_list = [photoname_train_list[i] for i in permutation[batch_index : batch_index + BATCH_SIZE]]\n",
        "        \n",
        "        # perfect\n",
        "        perfect_tensor = torch.zeros((len(batch_list), 350, 525))\n",
        "        perfect_tensor = perfect_tensor.long() ## why\n",
        "        \n",
        "        for i, photoname in enumerate(batch_list):\n",
        "            \n",
        "            print(i, photoname, file = log_file)\n",
        "\n",
        "            perfect_tensor[i] = get_perfect_class_mask_by_photo_name(photoname)\n",
        "\n",
        "            \n",
        "        print('perfect - done!', file=log_file)\n",
        "            \n",
        "        #predicted\n",
        "        predicted_tensor_args = torch.zeros((len(batch_list), 3, 700, 1050))\n",
        "        \n",
        "        for i, photoname in enumerate(batch_list):\n",
        "            \n",
        "            print(i, photoname, file=log_file)\n",
        "            im = Image.open(PATH_TO_TRAIN_IMAGES + '/' + photoname)\n",
        "            im = im.resize((1050, 700))\n",
        "            \n",
        "            tens_operator = transforms.ToTensor()\n",
        "            \n",
        "            predicted_tensor_args[i][0] = tens_operator(im)[0]\n",
        "            predicted_tensor_args[i][1] = tens_operator(im)[1]\n",
        "            predicted_tensor_args[i][2] = tens_operator(im)[2]\n",
        "\n",
        "            im.close()\n",
        "            \n",
        "        print('predicted args - done!', file=log_file)\n",
        "        \n",
        "        predicted_tensor_values = instance.forward(predicted_tensor_args)\n",
        "\n",
        "        #print(predicted_tensor_values)\n",
        "        #print(perfect_tensor)\n",
        "        \n",
        "        print('predicted values - done!', file=log_file)\n",
        "        \n",
        "        loss_value = loss(predicted_tensor_values, perfect_tensor)\n",
        "\n",
        "        print('loss_value = ', loss_value)\n",
        "\n",
        "        epoch_list.append(epoch)\n",
        "        loss_values_list.append(loss_value)\n",
        "        \n",
        "        print('loss - done!', file=log_file)\n",
        "\n",
        "        loss_value.backward()\n",
        "        \n",
        "        print('backward - done!', file=log_file)\n",
        "\n",
        "        optimizer.step()\n",
        "        \n",
        "        print('optimizer step - done!', file=log_file)\n",
        "        "
      ],
      "execution_count": 0,
      "outputs": [
        {
          "output_type": "stream",
          "text": [
            "['d24e67f.jpg', 'd22eb33.jpg', 'd2041d7.jpg', 'd265d38.jpg', 'd21b166.jpg', 'd27e37b.jpg', 'd2b4399.jpg', 'd2a42ee.jpg', 'd2e0f14.jpg', 'd2a540d.jpg', 'd2b72aa.jpg', 'd2eb9fe.jpg', 'd29a30a.jpg', 'd2e7aa7.jpg', 'd2c4532.jpg', 'd2c5a99.jpg', 'd314a09.jpg', 'd31f11f.jpg', 'd31af98.jpg', 'd35d04f.jpg']\n",
            "epoch #0 is started, time = 0.0004253387451171875 s\n",
            "loss_value =  tensor(1.5485, grad_fn=<NllLoss2DBackward>)\n",
            "epoch #1 is started, time = 18.023037910461426 s\n",
            "loss_value =  tensor(1.5479, grad_fn=<NllLoss2DBackward>)\n",
            "epoch #2 is started, time = 36.04644274711609 s\n",
            "loss_value =  tensor(1.5509, grad_fn=<NllLoss2DBackward>)\n",
            "epoch #3 is started, time = 54.161821365356445 s\n",
            "loss_value =  tensor(1.5530, grad_fn=<NllLoss2DBackward>)\n",
            "epoch #4 is started, time = 72.22925615310669 s\n",
            "loss_value =  tensor(1.5551, grad_fn=<NllLoss2DBackward>)\n",
            "epoch #5 is started, time = 90.32185864448547 s\n",
            "loss_value =  tensor(1.5535, grad_fn=<NllLoss2DBackward>)\n",
            "epoch #6 is started, time = 108.3658185005188 s\n",
            "loss_value =  tensor(1.5493, grad_fn=<NllLoss2DBackward>)\n",
            "epoch #7 is started, time = 126.34287810325623 s\n",
            "loss_value =  tensor(1.5502, grad_fn=<NllLoss2DBackward>)\n",
            "epoch #8 is started, time = 144.36174631118774 s\n",
            "loss_value =  tensor(1.5390, grad_fn=<NllLoss2DBackward>)\n",
            "epoch #9 is started, time = 162.35889220237732 s\n",
            "loss_value =  tensor(1.5429, grad_fn=<NllLoss2DBackward>)\n",
            "epoch #10 is started, time = 180.32300519943237 s\n",
            "loss_value =  tensor(1.5470, grad_fn=<NllLoss2DBackward>)\n",
            "epoch #11 is started, time = 198.4366238117218 s\n",
            "loss_value =  tensor(1.5425, grad_fn=<NllLoss2DBackward>)\n",
            "epoch #12 is started, time = 216.51388025283813 s\n",
            "loss_value =  tensor(1.5405, grad_fn=<NllLoss2DBackward>)\n",
            "epoch #13 is started, time = 234.48228788375854 s\n",
            "loss_value =  tensor(1.5396, grad_fn=<NllLoss2DBackward>)\n",
            "epoch #14 is started, time = 252.48686838150024 s\n",
            "loss_value =  tensor(1.5334, grad_fn=<NllLoss2DBackward>)\n",
            "epoch #15 is started, time = 270.50573682785034 s\n",
            "loss_value =  tensor(1.5288, grad_fn=<NllLoss2DBackward>)\n",
            "epoch #16 is started, time = 288.58593559265137 s\n",
            "loss_value =  tensor(1.5211, grad_fn=<NllLoss2DBackward>)\n",
            "epoch #17 is started, time = 306.67479038238525 s\n",
            "loss_value =  tensor(1.5163, grad_fn=<NllLoss2DBackward>)\n",
            "epoch #18 is started, time = 324.7844030857086 s\n",
            "loss_value =  tensor(1.5119, grad_fn=<NllLoss2DBackward>)\n",
            "epoch #19 is started, time = 342.8558967113495 s\n",
            "loss_value =  tensor(1.4940, grad_fn=<NllLoss2DBackward>)\n",
            "epoch #20 is started, time = 360.944287776947 s\n",
            "loss_value =  tensor(1.4894, grad_fn=<NllLoss2DBackward>)\n",
            "epoch #21 is started, time = 379.101735830307 s\n",
            "loss_value =  tensor(1.4812, grad_fn=<NllLoss2DBackward>)\n",
            "epoch #22 is started, time = 397.29557728767395 s\n",
            "loss_value =  tensor(1.4795, grad_fn=<NllLoss2DBackward>)\n",
            "epoch #23 is started, time = 415.364408493042 s\n",
            "loss_value =  tensor(1.4691, grad_fn=<NllLoss2DBackward>)\n",
            "epoch #24 is started, time = 433.46303629875183 s\n",
            "loss_value =  tensor(1.4667, grad_fn=<NllLoss2DBackward>)\n",
            "epoch #25 is started, time = 451.7086491584778 s\n",
            "loss_value =  tensor(1.4648, grad_fn=<NllLoss2DBackward>)\n",
            "epoch #26 is started, time = 469.80143642425537 s\n",
            "loss_value =  tensor(1.4533, grad_fn=<NllLoss2DBackward>)\n",
            "epoch #27 is started, time = 487.9118411540985 s\n",
            "loss_value =  tensor(1.4559, grad_fn=<NllLoss2DBackward>)\n",
            "epoch #28 is started, time = 506.12617802619934 s\n",
            "loss_value =  tensor(1.4600, grad_fn=<NllLoss2DBackward>)\n",
            "epoch #29 is started, time = 524.3055944442749 s\n",
            "loss_value =  tensor(1.4439, grad_fn=<NllLoss2DBackward>)\n",
            "epoch #30 is started, time = 542.3932130336761 s\n",
            "loss_value =  tensor(1.4477, grad_fn=<NllLoss2DBackward>)\n",
            "epoch #31 is started, time = 560.4195280075073 s\n",
            "loss_value =  tensor(1.4349, grad_fn=<NllLoss2DBackward>)\n",
            "epoch #32 is started, time = 578.4895870685577 s\n",
            "loss_value =  tensor(1.4309, grad_fn=<NllLoss2DBackward>)\n",
            "epoch #33 is started, time = 596.5466842651367 s\n",
            "loss_value =  tensor(1.4268, grad_fn=<NllLoss2DBackward>)\n",
            "epoch #34 is started, time = 614.5144114494324 s\n",
            "loss_value =  tensor(1.4249, grad_fn=<NllLoss2DBackward>)\n",
            "epoch #35 is started, time = 632.5277042388916 s\n",
            "loss_value =  tensor(1.4272, grad_fn=<NllLoss2DBackward>)\n",
            "epoch #36 is started, time = 650.4876339435577 s\n",
            "loss_value =  tensor(1.4302, grad_fn=<NllLoss2DBackward>)\n",
            "epoch #37 is started, time = 668.4753148555756 s\n",
            "loss_value =  tensor(1.4305, grad_fn=<NllLoss2DBackward>)\n",
            "epoch #38 is started, time = 686.5241119861603 s\n",
            "loss_value =  tensor(1.4315, grad_fn=<NllLoss2DBackward>)\n",
            "epoch #39 is started, time = 704.5740237236023 s\n",
            "loss_value =  tensor(1.4260, grad_fn=<NllLoss2DBackward>)\n",
            "epoch #40 is started, time = 722.6614017486572 s\n",
            "loss_value =  tensor(1.4326, grad_fn=<NllLoss2DBackward>)\n",
            "epoch #41 is started, time = 740.6487393379211 s\n",
            "loss_value =  tensor(1.4360, grad_fn=<NllLoss2DBackward>)\n",
            "epoch #42 is started, time = 758.8462545871735 s\n",
            "loss_value =  tensor(1.4353, grad_fn=<NllLoss2DBackward>)\n",
            "epoch #43 is started, time = 776.9636611938477 s\n",
            "loss_value =  tensor(1.4362, grad_fn=<NllLoss2DBackward>)\n",
            "epoch #44 is started, time = 795.0231895446777 s\n",
            "loss_value =  tensor(1.4304, grad_fn=<NllLoss2DBackward>)\n",
            "epoch #45 is started, time = 813.0264406204224 s\n",
            "loss_value =  tensor(1.4403, grad_fn=<NllLoss2DBackward>)\n",
            "epoch #46 is started, time = 831.0738928318024 s\n",
            "loss_value =  tensor(1.4357, grad_fn=<NllLoss2DBackward>)\n",
            "epoch #47 is started, time = 849.0506408214569 s\n",
            "loss_value =  tensor(1.4309, grad_fn=<NllLoss2DBackward>)\n",
            "epoch #48 is started, time = 867.0747168064117 s\n",
            "loss_value =  tensor(1.4338, grad_fn=<NllLoss2DBackward>)\n",
            "epoch #49 is started, time = 885.1223611831665 s\n",
            "loss_value =  tensor(1.4317, grad_fn=<NllLoss2DBackward>)\n",
            "epoch #50 is started, time = 903.1514823436737 s\n",
            "loss_value =  tensor(1.4407, grad_fn=<NllLoss2DBackward>)\n",
            "epoch #51 is started, time = 921.0852773189545 s\n",
            "loss_value =  tensor(1.4273, grad_fn=<NllLoss2DBackward>)\n",
            "epoch #52 is started, time = 939.0437843799591 s\n",
            "loss_value =  tensor(1.4336, grad_fn=<NllLoss2DBackward>)\n",
            "epoch #53 is started, time = 957.0151746273041 s\n",
            "loss_value =  tensor(1.4260, grad_fn=<NllLoss2DBackward>)\n",
            "epoch #54 is started, time = 974.9197010993958 s\n",
            "loss_value =  tensor(1.4260, grad_fn=<NllLoss2DBackward>)\n",
            "epoch #55 is started, time = 992.905207157135 s\n",
            "loss_value =  tensor(1.4334, grad_fn=<NllLoss2DBackward>)\n",
            "epoch #56 is started, time = 1010.8460378646851 s\n",
            "loss_value =  tensor(1.4419, grad_fn=<NllLoss2DBackward>)\n",
            "epoch #57 is started, time = 1028.794260263443 s\n",
            "loss_value =  tensor(1.4341, grad_fn=<NllLoss2DBackward>)\n",
            "epoch #58 is started, time = 1046.8547520637512 s\n",
            "loss_value =  tensor(1.4375, grad_fn=<NllLoss2DBackward>)\n",
            "epoch #59 is started, time = 1064.8959443569183 s\n",
            "loss_value =  tensor(1.4338, grad_fn=<NllLoss2DBackward>)\n",
            "epoch #60 is started, time = 1082.8775305747986 s\n",
            "loss_value =  tensor(1.4423, grad_fn=<NllLoss2DBackward>)\n",
            "epoch #61 is started, time = 1100.839868068695 s\n",
            "loss_value =  tensor(1.4438, grad_fn=<NllLoss2DBackward>)\n",
            "epoch #62 is started, time = 1118.8258986473083 s\n",
            "loss_value =  tensor(1.4352, grad_fn=<NllLoss2DBackward>)\n",
            "epoch #63 is started, time = 1136.9465019702911 s\n",
            "loss_value =  tensor(1.4336, grad_fn=<NllLoss2DBackward>)\n",
            "epoch #64 is started, time = 1154.9970543384552 s\n",
            "loss_value =  tensor(1.4279, grad_fn=<NllLoss2DBackward>)\n",
            "epoch #65 is started, time = 1173.1495039463043 s\n",
            "loss_value =  tensor(1.4297, grad_fn=<NllLoss2DBackward>)\n",
            "epoch #66 is started, time = 1191.2266895771027 s\n",
            "loss_value =  tensor(1.4254, grad_fn=<NllLoss2DBackward>)\n",
            "epoch #67 is started, time = 1209.3274965286255 s\n",
            "loss_value =  tensor(1.4321, grad_fn=<NllLoss2DBackward>)\n",
            "epoch #68 is started, time = 1227.3894801139832 s\n",
            "loss_value =  tensor(1.4220, grad_fn=<NllLoss2DBackward>)\n",
            "epoch #69 is started, time = 1245.3934407234192 s\n",
            "loss_value =  tensor(1.4242, grad_fn=<NllLoss2DBackward>)\n",
            "epoch #70 is started, time = 1263.3780024051666 s\n",
            "loss_value =  tensor(1.4132, grad_fn=<NllLoss2DBackward>)\n",
            "epoch #71 is started, time = 1281.3555445671082 s\n",
            "loss_value =  tensor(1.4314, grad_fn=<NllLoss2DBackward>)\n",
            "epoch #72 is started, time = 1299.3350358009338 s\n",
            "loss_value =  tensor(1.4210, grad_fn=<NllLoss2DBackward>)\n",
            "epoch #73 is started, time = 1317.3053004741669 s\n",
            "loss_value =  tensor(1.4180, grad_fn=<NllLoss2DBackward>)\n",
            "epoch #74 is started, time = 1335.241673707962 s\n",
            "loss_value =  tensor(1.4143, grad_fn=<NllLoss2DBackward>)\n",
            "epoch #75 is started, time = 1353.1502437591553 s\n",
            "loss_value =  tensor(1.4158, grad_fn=<NllLoss2DBackward>)\n",
            "epoch #76 is started, time = 1371.1200120449066 s\n",
            "loss_value =  tensor(1.4141, grad_fn=<NllLoss2DBackward>)\n",
            "epoch #77 is started, time = 1389.0414350032806 s\n",
            "loss_value =  tensor(1.4109, grad_fn=<NllLoss2DBackward>)\n",
            "epoch #78 is started, time = 1406.9765360355377 s\n",
            "loss_value =  tensor(1.4076, grad_fn=<NllLoss2DBackward>)\n",
            "epoch #79 is started, time = 1424.87043094635 s\n",
            "loss_value =  tensor(1.4057, grad_fn=<NllLoss2DBackward>)\n",
            "epoch #80 is started, time = 1442.8461525440216 s\n",
            "loss_value =  tensor(1.4032, grad_fn=<NllLoss2DBackward>)\n",
            "epoch #81 is started, time = 1460.786229133606 s\n",
            "loss_value =  tensor(1.4057, grad_fn=<NllLoss2DBackward>)\n",
            "epoch #82 is started, time = 1478.7058463096619 s\n",
            "loss_value =  tensor(1.4009, grad_fn=<NllLoss2DBackward>)\n",
            "epoch #83 is started, time = 1496.600598335266 s\n",
            "loss_value =  tensor(1.4016, grad_fn=<NllLoss2DBackward>)\n",
            "epoch #84 is started, time = 1514.523593902588 s\n",
            "loss_value =  tensor(1.4065, grad_fn=<NllLoss2DBackward>)\n",
            "epoch #85 is started, time = 1532.543285369873 s\n",
            "loss_value =  tensor(1.4021, grad_fn=<NllLoss2DBackward>)\n",
            "epoch #86 is started, time = 1550.5296092033386 s\n",
            "loss_value =  tensor(1.4048, grad_fn=<NllLoss2DBackward>)\n",
            "epoch #87 is started, time = 1568.545350074768 s\n",
            "loss_value =  tensor(1.4010, grad_fn=<NllLoss2DBackward>)\n",
            "epoch #88 is started, time = 1586.4955003261566 s\n",
            "loss_value =  tensor(1.4025, grad_fn=<NllLoss2DBackward>)\n",
            "epoch #89 is started, time = 1604.4720361232758 s\n",
            "loss_value =  tensor(1.4086, grad_fn=<NllLoss2DBackward>)\n",
            "epoch #90 is started, time = 1622.4058678150177 s\n",
            "loss_value =  tensor(1.4073, grad_fn=<NllLoss2DBackward>)\n",
            "epoch #91 is started, time = 1640.3766973018646 s\n",
            "loss_value =  tensor(1.4142, grad_fn=<NllLoss2DBackward>)\n",
            "epoch #92 is started, time = 1658.3686745166779 s\n",
            "loss_value =  tensor(1.4109, grad_fn=<NllLoss2DBackward>)\n",
            "epoch #93 is started, time = 1676.4067425727844 s\n",
            "loss_value =  tensor(1.4109, grad_fn=<NllLoss2DBackward>)\n",
            "epoch #94 is started, time = 1694.3475427627563 s\n",
            "loss_value =  tensor(1.4107, grad_fn=<NllLoss2DBackward>)\n",
            "epoch #95 is started, time = 1712.2648150920868 s\n",
            "loss_value =  tensor(1.4113, grad_fn=<NllLoss2DBackward>)\n",
            "epoch #96 is started, time = 1730.1964826583862 s\n",
            "loss_value =  tensor(1.4028, grad_fn=<NllLoss2DBackward>)\n",
            "epoch #97 is started, time = 1748.0909786224365 s\n",
            "loss_value =  tensor(1.4021, grad_fn=<NllLoss2DBackward>)\n",
            "epoch #98 is started, time = 1766.1128559112549 s\n",
            "loss_value =  tensor(1.3967, grad_fn=<NllLoss2DBackward>)\n",
            "epoch #99 is started, time = 1784.0556151866913 s\n",
            "loss_value =  tensor(1.3955, grad_fn=<NllLoss2DBackward>)\n"
          ],
          "name": "stdout"
        }
      ]
    },
    {
      "cell_type": "markdown",
      "metadata": {
        "id": "Q3MceDiQrkPP",
        "colab_type": "text"
      },
      "source": [
        "Построим график loss-функции от числа эпох:"
      ]
    },
    {
      "cell_type": "code",
      "metadata": {
        "id": "nTwhGAlbrm_H",
        "colab_type": "code",
        "outputId": "e7dce1b0-4ddc-4bbc-c9b0-84113a99714f",
        "colab": {
          "base_uri": "https://localhost:8080/",
          "height": 266
        }
      },
      "source": [
        "import matplotlib.pyplot as plt\n",
        "\n",
        "plt.plot(epoch_list, loss_values_list)\n",
        "plt.show()"
      ],
      "execution_count": 0,
      "outputs": [
        {
          "output_type": "display_data",
          "data": {
            "image/png": "[encoded data removed]",
            "text/plain": [
              "<Figure size 432x288 with 1 Axes>"
            ]
          },
          "metadata": {
            "tags": []
          }
        }
      ]
    },
    {
      "cell_type": "markdown",
      "metadata": {
        "id": "QljLN9acAgpG",
        "colab_type": "text"
      },
      "source": [
        "Процесс тестирования:\n",
        "\n"
      ]
    },
    {
      "cell_type": "markdown",
      "metadata": {
        "id": "ohvasl2gfw35",
        "colab_type": "text"
      },
      "source": [
        "Выходной .csv файл:"
      ]
    },
    {
      "cell_type": "code",
      "metadata": {
        "id": "MbknB8a4PU5A",
        "colab_type": "code",
        "colab": {}
      },
      "source": [
        "f = open(PATH_TO_SUBMISSION_CSV, 'w+')\n",
        "f.close()\n",
        "\n",
        "submission_df = pd.DataFrame(columns = ['Image_Label', 'EncodedPixels'])\n",
        "submission_df = submission_df.set_index('Image_Label')\n"
      ],
      "execution_count": 0,
      "outputs": []
    },
    {
      "cell_type": "markdown",
      "metadata": {
        "id": "HtcjIZrZgBW5",
        "colab_type": "text"
      },
      "source": [
        "Вспомогательные функции:"
      ]
    },
    {
      "cell_type": "markdown",
      "metadata": {
        "id": "JwMpOJW0gB2n",
        "colab_type": "text"
      },
      "source": [
        "Перевод выходного тензора в предсказанную маску паттернов:"
      ]
    },
    {
      "cell_type": "code",
      "metadata": {
        "id": "vPpIkGHPmQ-n",
        "colab_type": "code",
        "colab": {}
      },
      "source": [
        "def nn_predicted_mask_to_pattern_mask(tens):\n",
        "\n",
        "    if tens.shape != torch.Size([1, 5, 350, 525]):\n",
        "      raise ValueError('incorrect input shape!')\n",
        "\n",
        "    return torch.argmax(tens, dim = 1).resize_(350, 525)    "
      ],
      "execution_count": 0,
      "outputs": []
    },
    {
      "cell_type": "markdown",
      "metadata": {
        "id": "d3oN-YQzgQ0E",
        "colab_type": "text"
      },
      "source": [
        "Получение строк для .csv файла из маски паттернов:"
      ]
    },
    {
      "cell_type": "code",
      "metadata": {
        "id": "NoFrHra6zA4X",
        "colab_type": "code",
        "colab": {}
      },
      "source": [
        "def get_strings_from_pattern_mask(pattern_mask):\n",
        "\n",
        "    def get_pattern_str(pattern_val_in_mask):\n",
        "      answer_list = []\n",
        "      count = 0\n",
        "      for h in range(350):\n",
        "        for w in range(525):\n",
        "          if pattern_mask[h][w] == pattern_val_in_mask:\n",
        "            count += 1\n",
        "          else:\n",
        "            if count != 0:\n",
        "              answer_list.append(str(525 * h + w - count))\n",
        "              answer_list.append(str(count))\n",
        "              count = 0\n",
        "      if count != 0:\n",
        "        answer_list.append(str(525 * 350 - count))\n",
        "        answer_list.append(str(count))\n",
        "      \n",
        "      return ' '.join(answer_list)\n",
        "\n",
        "    #fish, flower, gravel, sugar\n",
        "    return get_pattern_str(0), get_pattern_str(1), get_pattern_str(2), get_pattern_str(3)  \n",
        "              \n",
        "              \n",
        "\n"
      ],
      "execution_count": 0,
      "outputs": []
    },
    {
      "cell_type": "markdown",
      "metadata": {
        "id": "V9xjDtJMjyOK",
        "colab_type": "text"
      },
      "source": [
        "Сам процесс тестирования:"
      ]
    },
    {
      "cell_type": "code",
      "metadata": {
        "id": "qBiAW3Dkj52M",
        "colab_type": "code",
        "colab": {}
      },
      "source": [
        "NUMBER_OF_PROCESSED_TEST_IMAGES = 10"
      ],
      "execution_count": 0,
      "outputs": []
    },
    {
      "cell_type": "code",
      "metadata": {
        "id": "A8noCEnyfrH-",
        "colab_type": "code",
        "outputId": "4b37c3db-105b-44fd-f8e0-5b804ee491ec",
        "colab": {
          "base_uri": "https://localhost:8080/",
          "height": 185
        }
      },
      "source": [
        "photoname_test_list = os.listdir(PATH_TO_TEST_IMAGES)\n",
        "photoname_test_list = photoname_test_list[:NUMBER_OF_PROCESSED_TEST_IMAGES]\n",
        "\n",
        "for test_image_photoname in photoname_test_list:\n",
        "\n",
        "    print(test_image_photoname)\n",
        "\n",
        "    im = Image.open(PATH_TO_TEST_IMAGES + '/' + test_image_photoname)\n",
        "    im = im.resize((1050, 700))\n",
        "\n",
        "    to_tensor = transforms.ToTensor()\n",
        "\n",
        "    predicted_tensor_from_nn = instance.forward(to_tensor(im).resize_(1, 3, 700, 1050))\n",
        "\n",
        "    #print(predicted_tensor_from_nn[0][0])\n",
        "    #print(predicted_tensor_from_nn[0][1])\n",
        "    #print(predicted_tensor_from_nn[0][2])\n",
        "    #print(predicted_tensor_from_nn[0][3])\n",
        "    #print(predicted_tensor_from_nn[0][4])\n",
        "\n",
        "    #print(nn_predicted_mask_to_pattern_mask(predicted_tensor_from_nn))\n",
        "\n",
        "    fish_str, flower_str, gravel_str, sugar_str = get_strings_from_pattern_mask(nn_predicted_mask_to_pattern_mask(predicted_tensor_from_nn))\n",
        "\n",
        "    submission_df.loc[test_image_photoname + '_Fish'] = fish_str\n",
        "    submission_df.loc[test_image_photoname + '_Flower'] = flower_str\n",
        "    submission_df.loc[test_image_photoname + '_Gravel'] = gravel_str\n",
        "    submission_df.loc[test_image_photoname + '_Sugar'] = sugar_str\n"
      ],
      "execution_count": 0,
      "outputs": [
        {
          "output_type": "stream",
          "text": [
            "bc3ca7f.jpg\n",
            "bbd680d.jpg\n",
            "bbe5085.jpg\n",
            "bc7ea95.jpg\n",
            "bc354be.jpg\n",
            "bc9017f.jpg\n",
            "bcf66d6.jpg\n",
            "bce3c05.jpg\n",
            "bd237a7.jpg\n",
            "bcf4c08.jpg\n"
          ],
          "name": "stdout"
        }
      ]
    },
    {
      "cell_type": "markdown",
      "metadata": {
        "id": "OB58bppLj9OZ",
        "colab_type": "text"
      },
      "source": [
        "Записать получившийся выходной датафрейм в .csv файл:"
      ]
    },
    {
      "cell_type": "code",
      "metadata": {
        "id": "wogSwpZ_fo1e",
        "colab_type": "code",
        "colab": {}
      },
      "source": [
        "submission_df.to_csv(PATH_TO_SUBMISSION_CSV)"
      ],
      "execution_count": 0,
      "outputs": []
    }
  ]
}